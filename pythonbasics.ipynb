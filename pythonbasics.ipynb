{
  "nbformat": 4,
  "nbformat_minor": 0,
  "metadata": {
    "colab": {
      "name": "pythonbasics.ipynb",
      "provenance": [],
      "authorship_tag": "ABX9TyPM1LEzL3i9JB/64H57ronx",
      "include_colab_link": true
    },
    "kernelspec": {
      "name": "python3",
      "display_name": "Python 3"
    }
  },
  "cells": [
    {
      "cell_type": "markdown",
      "metadata": {
        "id": "view-in-github",
        "colab_type": "text"
      },
      "source": [
        "<a href=\"https://colab.research.google.com/github/ravijannu/pythonbasics/blob/master/pythonbasics.ipynb\" target=\"_parent\"><img src=\"https://colab.research.google.com/assets/colab-badge.svg\" alt=\"Open In Colab\"/></a>"
      ]
    },
    {
      "cell_type": "code",
      "metadata": {
        "id": "FNhizVY6mwwZ",
        "colab_type": "code",
        "outputId": "3302c802-8471-41a2-cae7-8685e2ba1d45",
        "colab": {
          "base_uri": "https://localhost:8080/",
          "height": 34
        }
      },
      "source": [
        "print(\"hello\")"
      ],
      "execution_count": 0,
      "outputs": [
        {
          "output_type": "stream",
          "text": [
            "hello\n"
          ],
          "name": "stdout"
        }
      ]
    },
    {
      "cell_type": "code",
      "metadata": {
        "id": "5bTiWPpBKbpU",
        "colab_type": "code",
        "colab": {}
      },
      "source": [
        "from flask import Flask,request,redirect,url_for\n",
        "app=Flask(__name__)\n"
      ],
      "execution_count": 0,
      "outputs": []
    },
    {
      "cell_type": "markdown",
      "metadata": {
        "id": "-n9H5Cp1n3iW",
        "colab_type": "text"
      },
      "source": [
        "//notebook=example\n",
        "//Save below content as test.py\n",
        "site='gfg'\n",
        "if site='gfg':\n",
        "    print(\"test if\")\n",
        "else:\n",
        "    print(\"else part\")\n",
        "print(\"End statement\")\n",
        "//python test.py"
      ]
    },
    {
      "cell_type": "code",
      "metadata": {
        "id": "yLIxv7mYmnDa",
        "colab_type": "code",
        "outputId": "a94febc3-8df2-4c47-a746-f0bc9836abc6",
        "colab": {
          "base_uri": "https://localhost:8080/",
          "height": 118
        }
      },
      "source": [
        "site='gfg'\n",
        "for i in range(5):\n",
        "  if site == 'gfg':\n",
        "        print(\"test if\") \n",
        "  else:\n",
        "      print(\"else part\")\n",
        "print(\"End statement\")"
      ],
      "execution_count": 0,
      "outputs": [
        {
          "output_type": "stream",
          "text": [
            "test if\n",
            "test if\n",
            "test if\n",
            "test if\n",
            "test if\n",
            "End statement\n"
          ],
          "name": "stdout"
        }
      ]
    },
    {
      "cell_type": "code",
      "metadata": {
        "id": "awndBEPWrd5A",
        "colab_type": "code",
        "outputId": "b5f5d109-f954-4264-9301-f5fd0bca046b",
        "colab": {
          "base_uri": "https://localhost:8080/",
          "height": 151
        }
      },
      "source": [
        "def add(a,b):\n",
        "  k=a + b\n",
        "\n",
        "print(add(1,2))\n",
        "\n",
        "a=8\n",
        "b=5.1\n",
        "name=\"test\"\n",
        "\n",
        "\n",
        "print(type(a+b))\n",
        "print(type(name))\n",
        "#Arthimetic operation +,-*/%\n",
        "5+1.2\n",
        "#Relational operators >,<,==,>=\n",
        "a=2\n",
        "b=2\n",
        "c=2\n",
        "print(a == b)\n",
        "#Logical Operator\n",
        "#or And not\n",
        "if a==b and  a==c:\n",
        "  print(\"value {},{},{}\",a,b,c)\n",
        "  #assignment\n",
        "  a=\"assign\"\n",
        "  print(a)\n",
        "\n",
        "#special Operators\n",
        "#is ,is not\n",
        "#in not in\n",
        "a1=\"testPython\"\n",
        "b1=\"testpython1\"\n",
        "print(a1 is not b1)\n",
        "print(\"p\" in a1)\n",
        "\n"
      ],
      "execution_count": 0,
      "outputs": [
        {
          "output_type": "stream",
          "text": [
            "None\n",
            "<class 'float'>\n",
            "<class 'str'>\n",
            "True\n",
            "value {},{},{} 2 2 2\n",
            "assign\n",
            "True\n",
            "False\n"
          ],
          "name": "stdout"
        }
      ]
    },
    {
      "cell_type": "code",
      "metadata": {
        "id": "XU5aoesTKvb6",
        "colab_type": "code",
        "colab": {}
      },
      "source": [
        "from flask import Flask,request,redirect,url_for\n",
        "app=Flask(__name__)\n",
        "\n",
        "@app.route('/',methods=[\"GET\"])\n",
        "def index():\n",
        "  return \"Hello World\"\n",
        "\n",
        "@app.route('/<name>/<password>')\n",
        "def read_data(name,password):\n",
        "  if(name =='admin' and password== 'admin'):\n",
        "    return redirect(url_for('admin'))\n",
        "\n",
        "@app.route('/admin')\n",
        "def admin():\n",
        "  return \"this is from admin dashboard\"\n",
        "\n",
        "  if __name__== '__main__':\n",
        "    app.run()\n",
        "\n"
      ],
      "execution_count": 0,
      "outputs": []
    }
  ]
}